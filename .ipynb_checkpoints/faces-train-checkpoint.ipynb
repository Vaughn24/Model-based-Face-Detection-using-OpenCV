{
 "cells": [
  {
   "cell_type": "code",
   "execution_count": null,
   "metadata": {},
   "outputs": [],
   "source": [
    "import os\n",
    "import numpy as np\n",
    "from PIL import Image\n",
    "import cv2\n",
    "import pickle\n",
    "\n",
    "\n",
    "BASE_DIR = globals()['_dh'][0]\n",
    "image_dir = os.path.join(BASE_DIR, \"images\")\n",
    "\n",
    "face_cascade = cv2.CascadeClassifier('cascades/data/haarcascade_frontalface_alt2.xml')\n",
    "recognizer = cv2.face.LBPHFaceRecognizer_create()\n",
    "\n",
    "current_id = 0\n",
    "label_ids = {}\n",
    "y_labels = []\n",
    "x_train = []\n",
    "\n",
    "\n",
    "for root, dirs, files, in os.walk(image_dir):\n",
    "\tfor file in files:\n",
    "\t\tif file.endswith(\"png\") or file.endswith(\"jpg\"):\n",
    "\t\t\tpath = os.path.join(root, file)\n",
    "\t\t\tlabel = os.path.basename(os.path.dirname(path)).replace(\" \",\"-\").lower()\n",
    "\t\t\t#print(label,path)\n",
    "\t\t\tif not label in label_ids:\n",
    "\n",
    "\t\t\t\tlabel_ids[label] = current_id\n",
    "\t\t\t\tcurrent_id += 1\n",
    "\t\t\tid_ = label_ids[label]\n",
    "\t\t\tprint(label_ids)\n",
    "\t\t\t#y_labels.append(label)\n",
    "\t\t\t#x_train.append(path) # verify this image, turn into a NUMPY array, GRAY\n",
    "\t\t\tpil_image = Image.open(path).convert(\"L\")\n",
    "\t\t\timage_array = np.array(pil_image, \"uint8\")\n",
    "\t\t\tprint(image_array)\n",
    "\n",
    "\n",
    "\t\t\tfaces = face_cascade.detectMultiScale(image_array, scaleFactor=1.5, minNeighbors=5)\n",
    "\n",
    "\t\t\tfor(x,y,w,h) in faces:\n",
    "\t\t\t\troi = image_array[y:y+h, x:x+w]\n",
    "\t\t\t\tx_train.append(roi)\n",
    "\t\t\t\ty_labels.append(id_)\n",
    "\n",
    "with open(\"labels.pickle\", 'wb') as f:\n",
    "\tpickle.dump(label_ids, f)\n",
    "\n",
    "recognizer.train(x_train, np.array(y_labels))\n",
    "recognizer.save(\"trained-model.yml\")\n",
    "\n"
   ]
  },
  {
   "cell_type": "code",
   "execution_count": null,
   "metadata": {},
   "outputs": [],
   "source": []
  }
 ],
 "metadata": {
  "kernelspec": {
   "display_name": "Python 3",
   "language": "python",
   "name": "python3"
  },
  "language_info": {
   "codemirror_mode": {
    "name": "ipython",
    "version": 3
   },
   "file_extension": ".py",
   "mimetype": "text/x-python",
   "name": "python",
   "nbconvert_exporter": "python",
   "pygments_lexer": "ipython3",
   "version": "3.8.5"
  }
 },
 "nbformat": 4,
 "nbformat_minor": 4
}

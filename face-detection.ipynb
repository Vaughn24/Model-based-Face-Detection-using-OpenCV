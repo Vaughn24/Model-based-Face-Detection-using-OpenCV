{
 "cells": [
  {
   "cell_type": "code",
   "execution_count": 1,
   "metadata": {},
   "outputs": [],
   "source": [
    "import numpy as np\n",
    "import cv2\n",
    "import pickle"
   ]
  },
  {
   "cell_type": "code",
   "execution_count": 2,
   "metadata": {},
   "outputs": [],
   "source": [
    "face_cascade = cv2.CascadeClassifier('cascades/data/haarcascade_frontalface_alt2.xml')\n",
    "recognizer = cv2.face.LBPHFaceRecognizer_create()\n",
    "recognizer.read(\"trained-model.yml\")\n",
    "\n",
    "labels = {\"persons_name\": 1}\n",
    "with open(\"labels.pickle\", 'rb') as f:\n",
    "\tlabels = pickle.load(f)\n",
    "\tlabels = {v:k for k,v in labels.items()}\n",
    "\n",
    "cap = cv2.VideoCapture(0)"
   ]
  },
  {
   "cell_type": "code",
   "execution_count": null,
   "metadata": {
    "scrolled": true
   },
   "outputs": [],
   "source": [
    "while(True):\n",
    "\tret, frame = cap.read()\n",
    "\tgray = cv2.cvtColor(frame, cv2.COLOR_BGR2GRAY)\n",
    "\tfaces = face_cascade.detectMultiScale(gray, scaleFactor=1.5, minNeighbors=5)\n",
    "\tfor(x,y,w,h) in faces:\n",
    "\t\t#print(x,y,w,h)\n",
    "\t\troi_gray = gray[y:y+h, x:x+w] \n",
    "\t\troi_color = frame[y:y+h, x:x+w]\n",
    "\n",
    "\t\tid_,conf = recognizer.predict(roi_gray)\n",
    "\t\tif conf>=45: # and conf<= 85:\n",
    "\t\t\t#print(id_)\n",
    "\t\t\tprint(labels[id_])\n",
    "\t\t\tfont = cv2.FONT_HERSHEY_SIMPLEX\n",
    "\t\t\tname = labels[id_]\n",
    "\t\t\tcolor = (255,255,255)\n",
    "\t\t\tstroke = 2\n",
    "\t\t\tcv2.putText(frame,name,(x,y),font,1,color,stroke,cv2.LINE_AA)\n",
    "\t\t\n",
    "\t\timg_item = \"saved-media/sample.png\"\n",
    "\t\tcv2.imwrite(img_item, roi_color)\n",
    "\n",
    "\t\tcolor = (255,0,0)\n",
    "\t\tstroke = 2\n",
    "\t\tend_cord_x = x + w\n",
    "\t\tend_cord_y = y + h\n",
    "\t\tcv2.rectangle(frame, (x,y),(end_cord_x,end_cord_y), color,stroke)\n",
    "\n",
    "\tcv2.imshow('frame',frame)\n",
    "\tif cv2.waitKey(20) & 0xFF == ord('q'):\n",
    "\t\tbreak\n",
    "\n",
    "cap.release()\n",
    "cv2.destroyAllWindows()"
   ]
  },
  {
   "cell_type": "code",
   "execution_count": null,
   "metadata": {},
   "outputs": [],
   "source": []
  }
 ],
 "metadata": {
  "kernelspec": {
   "display_name": "Python 3 (ipykernel)",
   "language": "python",
   "name": "python3"
  },
  "language_info": {
   "codemirror_mode": {
    "name": "ipython",
    "version": 3
   },
   "file_extension": ".py",
   "mimetype": "text/x-python",
   "name": "python",
   "nbconvert_exporter": "python",
   "pygments_lexer": "ipython3",
   "version": "3.9.7"
  }
 },
 "nbformat": 4,
 "nbformat_minor": 4
}
